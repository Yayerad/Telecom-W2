{
 "cells": [
  {
   "cell_type": "code",
   "execution_count": 1,
   "metadata": {},
   "outputs": [],
   "source": [
    "import sys\n",
    "import os\n",
    "\n",
    "# Add the 'scripts' directory to the system path\n",
    "scripts_path = os.path.abspath(os.path.join('..', 'scripts'))\n",
    "sys.path.append(scripts_path)\n"
   ]
  },
  {
   "cell_type": "code",
   "execution_count": 2,
   "metadata": {},
   "outputs": [],
   "source": [
    "# Import your modules\n",
    "from data_cleaning import clean_data\n",
    "from data_extraction import extract_relevant_columns\n",
    "from data_formatting import format_data\n",
    "from data_transformation import transform_data\n",
    "\n"
   ]
  },
  {
   "cell_type": "code",
   "execution_count": 3,
   "metadata": {},
   "outputs": [],
   "source": [
    "from db import load_data\n"
   ]
  },
  {
   "cell_type": "code",
   "execution_count": 4,
   "metadata": {},
   "outputs": [],
   "source": [
    "from execute_query import execute_query"
   ]
  },
  {
   "cell_type": "code",
   "execution_count": 6,
   "metadata": {},
   "outputs": [
    {
     "name": "stdout",
     "output_type": "stream",
     "text": [
      "Data loaded successfully.\n",
      "      Bearer Id            Start  Start ms              End  End ms  \\\n",
      "0  1.311448e+19   4/4/2019 12:01     770.0  4/25/2019 14:35   662.0   \n",
      "1  1.311448e+19   4/9/2019 13:04     235.0   4/25/2019 8:15   606.0   \n",
      "2  1.311448e+19   4/9/2019 17:42       1.0  4/25/2019 11:58   652.0   \n",
      "3  1.311448e+19   4/10/2019 0:31     486.0   4/25/2019 7:36   171.0   \n",
      "4  1.311448e+19  4/12/2019 20:10     565.0  4/25/2019 10:40   954.0   \n",
      "\n",
      "   Dur. (ms)          IMSI  MSISDN/Number          IMEI  \\\n",
      "0  1823652.0  2.082014e+14   3.366496e+10  3.552121e+13   \n",
      "1  1365104.0  2.082019e+14   3.368185e+10  3.579401e+13   \n",
      "2  1361762.0  2.082003e+14   3.376063e+10  3.528151e+13   \n",
      "3  1321509.0  2.082014e+14   3.375034e+10  3.535661e+13   \n",
      "4  1089009.0  2.082014e+14   3.369980e+10  3.540701e+13   \n",
      "\n",
      "      Last Location Name  ...  Youtube DL (Bytes)  Youtube UL (Bytes)  \\\n",
      "0  9.16456699548519E+015  ...          15854611.0           2501332.0   \n",
      "1                L77566A  ...          20247395.0          19111729.0   \n",
      "2                D42335A  ...          19725661.0          14699576.0   \n",
      "3                T21824A  ...          21388122.0          15146643.0   \n",
      "4                D88865A  ...          15259380.0          18962873.0   \n",
      "\n",
      "   Netflix DL (Bytes)  Netflix UL (Bytes)  Gaming DL (Bytes)  \\\n",
      "0           8198936.0           9656251.0        278082303.0   \n",
      "1          18338413.0          17227132.0        608750074.0   \n",
      "2          17587794.0           6163408.0        229584621.0   \n",
      "3          13994646.0           1097942.0        799538153.0   \n",
      "4          17124581.0            415218.0        527707248.0   \n",
      "\n",
      "   Gaming UL (Bytes)  Other DL (Bytes)  Other UL (Bytes)  Total UL (Bytes)  \\\n",
      "0         14344150.0       171744450.0         8814393.0        36749741.0   \n",
      "1          1170709.0       526904238.0        15055145.0        53800391.0   \n",
      "2           395630.0       410692588.0         4215763.0        27883638.0   \n",
      "3         10849722.0       749039933.0        12797283.0        43324218.0   \n",
      "4          3529801.0       550709500.0        13910322.0        38542814.0   \n",
      "\n",
      "   Total DL (Bytes)  \n",
      "0       308879636.0  \n",
      "1       653384965.0  \n",
      "2       279807335.0  \n",
      "3       846028530.0  \n",
      "4       569138589.0  \n",
      "\n",
      "[5 rows x 55 columns]\n"
     ]
    }
   ],
   "source": [
    "# Load data from the database into a DataFrame\n",
    "data = load_data()\n",
    "\n",
    "# Check if data is loaded\n",
    "if data is not None:\n",
    "    print(\"Data loaded successfully.\")\n",
    "    print(data.head())  # Display the first few rows of the data"
   ]
  },
  {
   "cell_type": "code",
   "execution_count": 5,
   "metadata": {},
   "outputs": [
    {
     "name": "stdout",
     "output_type": "stream",
     "text": [
      "                   Handset Type  handset_count\n",
      "0              Huawei B528S-23A          19752\n",
      "1       Apple iPhone 6S (A1688)           9419\n",
      "2        Apple iPhone 6 (A1586)           9023\n",
      "3                     undefined           8987\n",
      "4        Apple iPhone 7 (A1778)           6326\n",
      "5       Apple iPhone Se (A1723)           5187\n",
      "6        Apple iPhone 8 (A1905)           4993\n",
      "7       Apple iPhone Xr (A2105)           4568\n",
      "8  Samsung Galaxy S8 (Sm-G950F)           4520\n",
      "9        Apple iPhone X (A1901)           3813\n"
     ]
    }
   ],
   "source": [
    "# Top 10 handsets used by customers\n",
    "query = \"\"\"\n",
    "    SELECT \"Handset Type\", COUNT(*) as handset_count\n",
    "FROM xdr_data\n",
    "GROUP BY \"Handset Type\"\n",
    "ORDER BY handset_count DESC\n",
    "LIMIT 10;\n",
    "\n",
    "\n",
    "\"\"\"\n",
    "handset_data = execute_query(query)\n",
    "print(handset_data)"
   ]
  },
  {
   "cell_type": "code",
   "execution_count": 7,
   "metadata": {},
   "outputs": [
    {
     "name": "stdout",
     "output_type": "stream",
     "text": [
      "            Handset Manufacturer  manufacturer_count\n",
      "0                          Apple               59565\n",
      "1                        Samsung               40839\n",
      "2                         Huawei               34423\n",
      "3                      undefined                8987\n",
      "4  Sony Mobile Communications Ab                 980\n"
     ]
    }
   ],
   "source": [
    "# Top 5 handset manufacturers\n",
    "query = \"\"\"\n",
    "    SELECT \"Handset Manufacturer\", COUNT(*) as manufacturer_count\n",
    "    FROM xdr_data\n",
    "    GROUP BY \"Handset Manufacturer\"\n",
    "    ORDER BY manufacturer_count DESC\n",
    "    LIMIT 5;\n",
    "\n",
    "\"\"\"\n",
    "top_3_manufacturers_list = execute_query(query)\n",
    "print(top_3_manufacturers_list)"
   ]
  },
  {
   "cell_type": "code",
   "execution_count": 8,
   "metadata": {},
   "outputs": [
    {
     "name": "stdout",
     "output_type": "stream",
     "text": [
      "              Handset Type  handset_count\n",
      "0         Huawei B528S-23A          19752\n",
      "1  Apple iPhone 6S (A1688)           9419\n",
      "2   Apple iPhone 6 (A1586)           9023\n",
      "3   Apple iPhone 7 (A1778)           6326\n",
      "4  Apple iPhone Se (A1723)           5187\n"
     ]
    }
   ],
   "source": [
    "# Top 5 handsets per top 3 manufacturers\n",
    "query = \"\"\"\n",
    "\n",
    "    SELECT \"Handset Type\", COUNT(\"Handset Type\") as handset_count\n",
    "    FROM xdr_data\n",
    "    WHERE \"Handset Manufacturer\" IN (\n",
    "        SELECT \"Handset Manufacturer\" \n",
    "        FROM xdr_data\n",
    "        GROUP BY \"Handset Manufacturer\"\n",
    "        ORDER BY COUNT(*) DESC\n",
    "        LIMIT 3\n",
    "    )\n",
    "    GROUP BY \"Handset Type\"\n",
    "    ORDER BY handset_count DESC\n",
    "LIMIT 5; \"\"\"\n",
    "\n",
    "top_5_handsets_per_manufacturer = execute_query(query)\n",
    "print(top_5_handsets_per_manufacturer)"
   ]
  },
  {
   "cell_type": "code",
   "execution_count": 9,
   "metadata": {},
   "outputs": [
    {
     "name": "stdout",
     "output_type": "stream",
     "text": [
      "             user_id  session_count  total_duration  total_download  \\\n",
      "0       3.360100e+10              1        116720.0    8.426375e+08   \n",
      "1       3.360100e+10              1        181230.0    1.207552e+08   \n",
      "2       3.360100e+10              1        134969.0    5.566597e+08   \n",
      "3       3.360101e+10              1         49878.0    4.019932e+08   \n",
      "4       3.360101e+10              2         37104.0    1.363130e+09   \n",
      "...              ...            ...             ...             ...   \n",
      "106960           NaN              1         15094.0    7.856484e+08   \n",
      "106961           NaN              0         17477.0    7.266285e+08   \n",
      "106962           NaN              1         11921.0    1.459396e+08   \n",
      "106963           NaN              2        173817.0    1.523894e+09   \n",
      "106964           NaN             11      37649798.0    2.587348e+11   \n",
      "\n",
      "        total_upload  total_data_volume                    Handset Type  \n",
      "0       3.605311e+07       8.786906e+08  Huawei P20 Lite Huawei Nova 3E  \n",
      "1       3.610446e+07       1.568596e+08          Apple iPhone 7 (A1778)  \n",
      "2       3.930682e+07       5.959665e+08                       undefined  \n",
      "3       2.032753e+07       4.223207e+08         Apple iPhone 5S (A1457)  \n",
      "4       9.428053e+07       1.457411e+09         Apple iPhone Se (A1723)  \n",
      "...              ...                ...                             ...  \n",
      "106960  4.441218e+07       8.300606e+08   Wiko Global Sasu Wiko Pulp 4G  \n",
      "106961  4.701763e+07       7.736462e+08            Xiaomi Communica. A7  \n",
      "106962  2.752476e+07       1.734644e+08      Xiaomi Communica. Redmi 4A  \n",
      "106963  7.978425e+07       1.603678e+09                       Zte Mf259  \n",
      "106964  2.359572e+10       2.823305e+11                            None  \n",
      "\n",
      "[106965 rows x 7 columns]\n"
     ]
    }
   ],
   "source": [
    "# User behavior on applications (number of sessions, total data volume, etc.)\n",
    "query = \"\"\"\n",
    "    SELECT \n",
    "    \"MSISDN/Number\" AS user_id,                  -- Assuming MSISDN/Number is the user identifier\n",
    "    COUNT(\"Bearer Id\") AS session_count,        -- Assuming Bearer Id represents a unique session\n",
    "    SUM(\"Dur. (ms)\") AS total_duration,         -- Duration of sessions in milliseconds\n",
    "    SUM(\"Total DL (Bytes)\") AS total_download,  -- Total download data in bytes\n",
    "    SUM(\"Total UL (Bytes)\") AS total_upload,    -- Total upload data in bytes\n",
    "    SUM(\"Total DL (Bytes)\") + SUM(\"Total UL (Bytes)\") AS total_data_volume,  -- Total data volume\n",
    "    \"Handset Type\"                              -- Assuming Handset Type is equivalent to application\n",
    "FROM xdr_data\n",
    "GROUP BY \"MSISDN/Number\", \"Handset Type\";\n",
    " \"\"\"\n",
    "\n",
    "user_behaviour = execute_query(query)\n",
    "print(user_behaviour)"
   ]
  },
  {
   "cell_type": "code",
   "execution_count": null,
   "metadata": {},
   "outputs": [],
   "source": []
  }
 ],
 "metadata": {
  "kernelspec": {
   "display_name": ".venv",
   "language": "python",
   "name": "python3"
  },
  "language_info": {
   "codemirror_mode": {
    "name": "ipython",
    "version": 3
   },
   "file_extension": ".py",
   "mimetype": "text/x-python",
   "name": "python",
   "nbconvert_exporter": "python",
   "pygments_lexer": "ipython3",
   "version": "3.12.5"
  }
 },
 "nbformat": 4,
 "nbformat_minor": 2
}
